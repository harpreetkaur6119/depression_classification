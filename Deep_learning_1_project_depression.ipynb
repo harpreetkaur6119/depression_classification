{
  "nbformat": 4,
  "nbformat_minor": 0,
  "metadata": {
    "colab": {
      "provenance": []
    },
    "kernelspec": {
      "name": "python3",
      "display_name": "Python 3"
    },
    "language_info": {
      "name": "python"
    },
    "accelerator": "GPU",
    "gpuClass": "standard"
  },
  "cells": [
    {
      "cell_type": "markdown",
      "source": [
        "### Download Dataset"
      ],
      "metadata": {
        "id": "PCcw2aeilJkW"
      }
    },
    {
      "cell_type": "code",
      "source": [
        "%%sh\n",
        "# pip install gdown\n",
        "# gdown 1jsuygnZ3G6R2lam5huSKBNXOFMCByWz9\n",
        "# wget https://nlp.stanford.edu/data/glove.6B.zip\n",
        "# unzip -j glove.6B.zip -d ./\n",
        "\n",
        "\n"
      ],
      "metadata": {
        "id": "eO8N080OlJHH"
      },
      "execution_count": null,
      "outputs": []
    },
    {
      "cell_type": "code",
      "execution_count": null,
      "metadata": {
        "id": "tsmDVg1wbp6K"
      },
      "outputs": [],
      "source": [
        "import pandas as pd\n",
        "import numpy as np\n",
        "import re\n",
        "import string\n",
        "import nltk\n",
        "from nltk.corpus import stopwords\n",
        "from sklearn.model_selection import train_test_split\n",
        "from keras.preprocessing.text import Tokenizer\n",
        "from tensorflow.keras.preprocessing.sequence import pad_sequences\n",
        "from keras.models import Sequential\n",
        "from keras.layers import Dense, LSTM,Embedding\n",
        "import seaborn as sns\n",
        "import matplotlib.pyplot as plt\n",
        "%matplotlib inline"
      ]
    },
    {
      "cell_type": "code",
      "source": [
        "nltk.download('stopwords')"
      ],
      "metadata": {
        "colab": {
          "base_uri": "https://localhost:8080/"
        },
        "id": "2dveEJesqnD6",
        "outputId": "aa030f0c-6754-4031-9682-7d585a190d6f"
      },
      "execution_count": null,
      "outputs": [
        {
          "output_type": "stream",
          "name": "stderr",
          "text": [
            "[nltk_data] Downloading package stopwords to /root/nltk_data...\n",
            "[nltk_data]   Package stopwords is already up-to-date!\n"
          ]
        },
        {
          "output_type": "execute_result",
          "data": {
            "text/plain": [
              "True"
            ]
          },
          "metadata": {},
          "execution_count": 7
        }
      ]
    },
    {
      "cell_type": "code",
      "source": [
        "from tensorflow.config import list_physical_devices\n",
        "list_physical_devices('GPU')"
      ],
      "metadata": {
        "colab": {
          "base_uri": "https://localhost:8080/"
        },
        "id": "lRxmAIZNEUXg",
        "outputId": "32bce4e1-e5bb-4256-9c3e-92b4e5b6d4d8"
      },
      "execution_count": null,
      "outputs": [
        {
          "output_type": "execute_result",
          "data": {
            "text/plain": [
              "[PhysicalDevice(name='/physical_device:GPU:0', device_type='GPU')]"
            ]
          },
          "metadata": {},
          "execution_count": 8
        }
      ]
    },
    {
      "cell_type": "code",
      "source": [
        "data_set_df = pd.read_csv('depression_dataset_reddit_cleaned.csv')"
      ],
      "metadata": {
        "id": "iK5SeopPov_7"
      },
      "execution_count": null,
      "outputs": []
    },
    {
      "cell_type": "code",
      "source": [
        "data_set_df.head()"
      ],
      "metadata": {
        "colab": {
          "base_uri": "https://localhost:8080/",
          "height": 206
        },
        "id": "ubQpz2sno83s",
        "outputId": "246572c9-bbe8-4975-b8eb-3c94df94105f"
      },
      "execution_count": null,
      "outputs": [
        {
          "output_type": "execute_result",
          "data": {
            "text/plain": [
              "                                          clean_text  is_depression\n",
              "0  we understand that most people who reply immed...              1\n",
              "1  welcome to r depression s check in post a plac...              1\n",
              "2  anyone else instead of sleeping more when depr...              1\n",
              "3  i ve kind of stuffed around a lot in my life d...              1\n",
              "4  sleep is my greatest and most comforting escap...              1"
            ],
            "text/html": [
              "\n",
              "  <div id=\"df-208fd290-2db9-4896-a7eb-8b205de1e042\">\n",
              "    <div class=\"colab-df-container\">\n",
              "      <div>\n",
              "<style scoped>\n",
              "    .dataframe tbody tr th:only-of-type {\n",
              "        vertical-align: middle;\n",
              "    }\n",
              "\n",
              "    .dataframe tbody tr th {\n",
              "        vertical-align: top;\n",
              "    }\n",
              "\n",
              "    .dataframe thead th {\n",
              "        text-align: right;\n",
              "    }\n",
              "</style>\n",
              "<table border=\"1\" class=\"dataframe\">\n",
              "  <thead>\n",
              "    <tr style=\"text-align: right;\">\n",
              "      <th></th>\n",
              "      <th>clean_text</th>\n",
              "      <th>is_depression</th>\n",
              "    </tr>\n",
              "  </thead>\n",
              "  <tbody>\n",
              "    <tr>\n",
              "      <th>0</th>\n",
              "      <td>we understand that most people who reply immed...</td>\n",
              "      <td>1</td>\n",
              "    </tr>\n",
              "    <tr>\n",
              "      <th>1</th>\n",
              "      <td>welcome to r depression s check in post a plac...</td>\n",
              "      <td>1</td>\n",
              "    </tr>\n",
              "    <tr>\n",
              "      <th>2</th>\n",
              "      <td>anyone else instead of sleeping more when depr...</td>\n",
              "      <td>1</td>\n",
              "    </tr>\n",
              "    <tr>\n",
              "      <th>3</th>\n",
              "      <td>i ve kind of stuffed around a lot in my life d...</td>\n",
              "      <td>1</td>\n",
              "    </tr>\n",
              "    <tr>\n",
              "      <th>4</th>\n",
              "      <td>sleep is my greatest and most comforting escap...</td>\n",
              "      <td>1</td>\n",
              "    </tr>\n",
              "  </tbody>\n",
              "</table>\n",
              "</div>\n",
              "      <button class=\"colab-df-convert\" onclick=\"convertToInteractive('df-208fd290-2db9-4896-a7eb-8b205de1e042')\"\n",
              "              title=\"Convert this dataframe to an interactive table.\"\n",
              "              style=\"display:none;\">\n",
              "        \n",
              "  <svg xmlns=\"http://www.w3.org/2000/svg\" height=\"24px\"viewBox=\"0 0 24 24\"\n",
              "       width=\"24px\">\n",
              "    <path d=\"M0 0h24v24H0V0z\" fill=\"none\"/>\n",
              "    <path d=\"M18.56 5.44l.94 2.06.94-2.06 2.06-.94-2.06-.94-.94-2.06-.94 2.06-2.06.94zm-11 1L8.5 8.5l.94-2.06 2.06-.94-2.06-.94L8.5 2.5l-.94 2.06-2.06.94zm10 10l.94 2.06.94-2.06 2.06-.94-2.06-.94-.94-2.06-.94 2.06-2.06.94z\"/><path d=\"M17.41 7.96l-1.37-1.37c-.4-.4-.92-.59-1.43-.59-.52 0-1.04.2-1.43.59L10.3 9.45l-7.72 7.72c-.78.78-.78 2.05 0 2.83L4 21.41c.39.39.9.59 1.41.59.51 0 1.02-.2 1.41-.59l7.78-7.78 2.81-2.81c.8-.78.8-2.07 0-2.86zM5.41 20L4 18.59l7.72-7.72 1.47 1.35L5.41 20z\"/>\n",
              "  </svg>\n",
              "      </button>\n",
              "      \n",
              "  <style>\n",
              "    .colab-df-container {\n",
              "      display:flex;\n",
              "      flex-wrap:wrap;\n",
              "      gap: 12px;\n",
              "    }\n",
              "\n",
              "    .colab-df-convert {\n",
              "      background-color: #E8F0FE;\n",
              "      border: none;\n",
              "      border-radius: 50%;\n",
              "      cursor: pointer;\n",
              "      display: none;\n",
              "      fill: #1967D2;\n",
              "      height: 32px;\n",
              "      padding: 0 0 0 0;\n",
              "      width: 32px;\n",
              "    }\n",
              "\n",
              "    .colab-df-convert:hover {\n",
              "      background-color: #E2EBFA;\n",
              "      box-shadow: 0px 1px 2px rgba(60, 64, 67, 0.3), 0px 1px 3px 1px rgba(60, 64, 67, 0.15);\n",
              "      fill: #174EA6;\n",
              "    }\n",
              "\n",
              "    [theme=dark] .colab-df-convert {\n",
              "      background-color: #3B4455;\n",
              "      fill: #D2E3FC;\n",
              "    }\n",
              "\n",
              "    [theme=dark] .colab-df-convert:hover {\n",
              "      background-color: #434B5C;\n",
              "      box-shadow: 0px 1px 3px 1px rgba(0, 0, 0, 0.15);\n",
              "      filter: drop-shadow(0px 1px 2px rgba(0, 0, 0, 0.3));\n",
              "      fill: #FFFFFF;\n",
              "    }\n",
              "  </style>\n",
              "\n",
              "      <script>\n",
              "        const buttonEl =\n",
              "          document.querySelector('#df-208fd290-2db9-4896-a7eb-8b205de1e042 button.colab-df-convert');\n",
              "        buttonEl.style.display =\n",
              "          google.colab.kernel.accessAllowed ? 'block' : 'none';\n",
              "\n",
              "        async function convertToInteractive(key) {\n",
              "          const element = document.querySelector('#df-208fd290-2db9-4896-a7eb-8b205de1e042');\n",
              "          const dataTable =\n",
              "            await google.colab.kernel.invokeFunction('convertToInteractive',\n",
              "                                                     [key], {});\n",
              "          if (!dataTable) return;\n",
              "\n",
              "          const docLinkHtml = 'Like what you see? Visit the ' +\n",
              "            '<a target=\"_blank\" href=https://colab.research.google.com/notebooks/data_table.ipynb>data table notebook</a>'\n",
              "            + ' to learn more about interactive tables.';\n",
              "          element.innerHTML = '';\n",
              "          dataTable['output_type'] = 'display_data';\n",
              "          await google.colab.output.renderOutput(dataTable, element);\n",
              "          const docLink = document.createElement('div');\n",
              "          docLink.innerHTML = docLinkHtml;\n",
              "          element.appendChild(docLink);\n",
              "        }\n",
              "      </script>\n",
              "    </div>\n",
              "  </div>\n",
              "  "
            ]
          },
          "metadata": {},
          "execution_count": 10
        }
      ]
    },
    {
      "cell_type": "code",
      "source": [
        "data_set_df.isnull().values.any()"
      ],
      "metadata": {
        "colab": {
          "base_uri": "https://localhost:8080/"
        },
        "id": "DH-KqmrhpdFT",
        "outputId": "473b564c-4c4c-4dff-cdc9-37f9afaddb8a"
      },
      "execution_count": null,
      "outputs": [
        {
          "output_type": "execute_result",
          "data": {
            "text/plain": [
              "False"
            ]
          },
          "metadata": {},
          "execution_count": 11
        }
      ]
    },
    {
      "cell_type": "code",
      "source": [
        "data_set_df.shape"
      ],
      "metadata": {
        "colab": {
          "base_uri": "https://localhost:8080/"
        },
        "id": "GMGIoay5phWk",
        "outputId": "71df9ee3-f357-44b0-dd2b-ca72caf09a17"
      },
      "execution_count": null,
      "outputs": [
        {
          "output_type": "execute_result",
          "data": {
            "text/plain": [
              "(7731, 2)"
            ]
          },
          "metadata": {},
          "execution_count": 12
        }
      ]
    },
    {
      "cell_type": "code",
      "source": [
        "data_set_df[\"clean_text\"][10]"
      ],
      "metadata": {
        "colab": {
          "base_uri": "https://localhost:8080/",
          "height": 141
        },
        "id": "8dB0PrxRprO3",
        "outputId": "f8b6d9be-1788-4932-cda7-8fd6708accb9"
      },
      "execution_count": null,
      "outputs": [
        {
          "output_type": "execute_result",
          "data": {
            "text/plain": [
              "'i ve been struggling with depression for a long time now but i just my first severe instance of depersonalization and it scared me so badly i m not even entirely sure why but something about the fact that i just spent over an hour lying on the floor feeling like my body didn t really belong to me and i might not be real is so extremely unsettling to me i feel more mentally and physically myself now and just trying to process what happened is really difficult if anyone ha any kind of comfort or advice about depersonalization i d appreciate it'"
            ],
            "application/vnd.google.colaboratory.intrinsic+json": {
              "type": "string"
            }
          },
          "metadata": {},
          "execution_count": 13
        }
      ]
    },
    {
      "cell_type": "code",
      "source": [
        "sns.countplot(x='is_depression', data=data_set_df)"
      ],
      "metadata": {
        "colab": {
          "base_uri": "https://localhost:8080/",
          "height": 298
        },
        "id": "92VxQAaVqBQE",
        "outputId": "24c24c16-81d0-4e26-b10c-b989ee638268"
      },
      "execution_count": null,
      "outputs": [
        {
          "output_type": "execute_result",
          "data": {
            "text/plain": [
              "<matplotlib.axes._subplots.AxesSubplot at 0x7f00128282e0>"
            ]
          },
          "metadata": {},
          "execution_count": 14
        },
        {
          "output_type": "display_data",
          "data": {
            "text/plain": [
              "<Figure size 432x288 with 1 Axes>"
            ],
            "image/png": "[encoded data removed]"
          },
          "metadata": {
            "needs_background": "light"
          }
        }
      ]
    },
    {
      "cell_type": "markdown",
      "source": [
        "### Pre-processing of text\n",
        "- Removing html tags\n",
        "- Removing punctutations and numbers\n",
        "- Removing Multiple spaces\n",
        "- so on"
      ],
      "metadata": {
        "id": "uwcwB4iuqSvo"
      }
    },
    {
      "cell_type": "code",
      "source": [
        "stop_words = stopwords.words('english') #English language's stop words\n",
        "\n",
        "def textpreprocess(s):\n",
        "    \"\"\"This function cleans the text\n",
        "    Input: string to be cleaned\n",
        "    Return: string after cleaning\n",
        "    \"\"\"\n",
        "    words = [] # empty list\n",
        "    \n",
        "    s = s.strip().lower() # lower the string\n",
        "    s = re.sub('\\[.*?\\]', '', s) # removes symbols (.*?\\)\n",
        "    s = re.sub('https?://\\S+|www\\.\\S+', '', s) # remove URLS\n",
        "    s = re.sub('<.*?>+', '', s)\n",
        "    s = re.sub('[%s]' % re.escape(string.punctuation), '', s) # remove punctuations\n",
        "    s = re.sub('\\n', '', s) # remove next line character\n",
        "    s = re.sub('\\w*\\d\\w*', '', s)\n",
        "    \n",
        "    words = s.split() # split the string into list of words\n",
        "    words = [word for word in words if word not in stop_words] # removing stop words\n",
        "    s = ' '.join(words) # converting list to string\n",
        "    \n",
        "    return s"
      ],
      "metadata": {
        "id": "3iOvoA0mqLK1"
      },
      "execution_count": null,
      "outputs": []
    },
    {
      "cell_type": "code",
      "source": [
        "X = []\n",
        "sentences = list(data_set_df['clean_text'])\n",
        "for sen in sentences:\n",
        "    X.append(textpreprocess(sen))"
      ],
      "metadata": {
        "id": "HZW-h80SqToQ"
      },
      "execution_count": null,
      "outputs": []
    },
    {
      "cell_type": "code",
      "source": [
        "X[10]"
      ],
      "metadata": {
        "colab": {
          "base_uri": "https://localhost:8080/",
          "height": 106
        },
        "id": "lHz5i93vq5MW",
        "outputId": "d95ec591-2cae-4d2b-cc01-0822c8ec9e3e"
      },
      "execution_count": null,
      "outputs": [
        {
          "output_type": "execute_result",
          "data": {
            "text/plain": [
              "'struggling depression long time first severe instance depersonalization scared badly even entirely sure something fact spent hour lying floor feeling like body really belong might real extremely unsettling feel mentally physically trying process happened really difficult anyone ha kind comfort advice depersonalization appreciate'"
            ],
            "application/vnd.google.colaboratory.intrinsic+json": {
              "type": "string"
            }
          },
          "metadata": {},
          "execution_count": 17
        }
      ]
    },
    {
      "cell_type": "code",
      "source": [
        "y = np.asarray(data_set_df['is_depression']).astype('float32').reshape((-1,1))\n",
        "y"
      ],
      "metadata": {
        "colab": {
          "base_uri": "https://localhost:8080/"
        },
        "id": "A2FxK5VorE7w",
        "outputId": "2a881afa-66f5-4ca3-b117-ad15de824b7f"
      },
      "execution_count": null,
      "outputs": [
        {
          "output_type": "execute_result",
          "data": {
            "text/plain": [
              "array([[1.],\n",
              "       [1.],\n",
              "       [1.],\n",
              "       ...,\n",
              "       [0.],\n",
              "       [0.],\n",
              "       [0.]], dtype=float32)"
            ]
          },
          "metadata": {},
          "execution_count": 18
        }
      ]
    },
    {
      "cell_type": "markdown",
      "source": [
        "### Split the dataset to train and test"
      ],
      "metadata": {
        "id": "Lkx4thEAraiV"
      }
    },
    {
      "cell_type": "code",
      "source": [
        "X_train, X_test, y_train, y_test = train_test_split(X, y, test_size=0.20, random_state=42)"
      ],
      "metadata": {
        "id": "n5gYF6ZzrTui"
      },
      "execution_count": null,
      "outputs": []
    },
    {
      "cell_type": "markdown",
      "source": [
        "### Use Tokenizer to integer encode the documents"
      ],
      "metadata": {
        "id": "XC18iD7SrzaH"
      }
    },
    {
      "cell_type": "code",
      "source": [
        "# hyperparameters\n",
        "num_words_ = 5000\n",
        "oov_tok = \"<OOV>\"\n",
        "\n",
        "tokenizer = Tokenizer(num_words=num_words_, oov_token=oov_tok)\n",
        "tokenizer.fit_on_texts(X_train)\n",
        "\n",
        "X_train = tokenizer.texts_to_sequences(X_train)\n",
        "X_test = tokenizer.texts_to_sequences(X_test)"
      ],
      "metadata": {
        "id": "6eRjk36Yr0LW"
      },
      "execution_count": null,
      "outputs": []
    },
    {
      "cell_type": "markdown",
      "source": [
        "### Pad Sequences to create equal-length inputs"
      ],
      "metadata": {
        "id": "1PSSlIsvsJ4J"
      }
    },
    {
      "cell_type": "code",
      "source": [
        "vocab_size = len(tokenizer.word_index) + 1\n",
        "\n",
        "maxlen = 500\n",
        "trunc_type='post'\n",
        "padding_type='post'\n",
        "\n",
        "X_train = pad_sequences(X_train, maxlen=maxlen, truncating= trunc_type, padding=padding_type)\n",
        "X_test = pad_sequences(X_test, padding='post', maxlen=maxlen)"
      ],
      "metadata": {
        "id": "g8juFBXTsCKb"
      },
      "execution_count": null,
      "outputs": []
    },
    {
      "cell_type": "markdown",
      "source": [
        "### Load GloVe embedding into memory"
      ],
      "metadata": {
        "id": "oDpugGW7uUay"
      }
    },
    {
      "cell_type": "code",
      "source": [
        "embeddings_dictionary = dict()\n",
        "glove_file = open('glove.6B.50d.txt', encoding=\"utf8\")\n",
        "\n",
        "for line in glove_file:\n",
        "    records = line.split()\n",
        "    word = records[0]\n",
        "    vector_dimensions = np.asarray(records[1:], dtype='float32')\n",
        "    embeddings_dictionary [word] = vector_dimensions\n",
        "glove_file.close()"
      ],
      "metadata": {
        "id": "LyLJUH6ms46U"
      },
      "execution_count": null,
      "outputs": []
    },
    {
      "cell_type": "markdown",
      "source": [
        "### Create Embedding matrix for our Kaggle dataset"
      ],
      "metadata": {
        "id": "72VMpwTlz_l0"
      }
    },
    {
      "cell_type": "code",
      "source": [
        "embedding_matrix = np.zeros((vocab_size, 50))\n",
        "for word, index in tokenizer.word_index.items():\n",
        "    embedding_vector = embeddings_dictionary.get(word)\n",
        "    if embedding_vector is not None:\n",
        "        embedding_matrix[index] = embedding_vector"
      ],
      "metadata": {
        "id": "4hDzk2Eus9Ut"
      },
      "execution_count": null,
      "outputs": []
    },
    {
      "cell_type": "markdown",
      "source": [
        "### Build the model - Long Short Term Memory Neural Network"
      ],
      "metadata": {
        "id": "k0aO2KAg0oTl"
      }
    },
    {
      "cell_type": "code",
      "source": [
        "model = Sequential()\n",
        "embedding_layer = Embedding(vocab_size, 50, weights=[embedding_matrix], input_length=maxlen , trainable=False)\n",
        "model.add(embedding_layer)\n",
        "model.add(LSTM(128, activation='tanh', return_sequences=True))\n",
        "model.add(LSTM(64, activation='tanh', return_sequences=True))\n",
        "model.add(LSTM(32, activation='tanh'))\n",
        "model.add(Dense(16, activation='sigmoid'))\n",
        "model.add(Dense(1, activation='sigmoid'))"
      ],
      "metadata": {
        "id": "dBUmwn2r0n-_"
      },
      "execution_count": null,
      "outputs": []
    },
    {
      "cell_type": "code",
      "source": [
        "model.compile(optimizer='rmsprop', loss='binary_crossentropy', metrics=['accuracy'])\n",
        "\n",
        "print(model.summary())"
      ],
      "metadata": {
        "colab": {
          "base_uri": "https://localhost:8080/"
        },
        "id": "DKmw7gk21sZA",
        "outputId": "610d2a6d-55d9-4dcd-88bd-70e2b0dde86e"
      },
      "execution_count": null,
      "outputs": [
        {
          "output_type": "stream",
          "name": "stdout",
          "text": [
            "Model: \"sequential\"\n",
            "_________________________________________________________________\n",
            " Layer (type)                Output Shape              Param #   \n",
            "=================================================================\n",
            " embedding (Embedding)       (None, 500, 50)           825150    \n",
            "                                                                 \n",
            " lstm (LSTM)                 (None, 500, 128)          91648     \n",
            "                                                                 \n",
            " lstm_1 (LSTM)               (None, 500, 64)           49408     \n",
            "                                                                 \n",
            " lstm_2 (LSTM)               (None, 32)                12416     \n",
            "                                                                 \n",
            " dense (Dense)               (None, 16)                528       \n",
            "                                                                 \n",
            " dense_1 (Dense)             (None, 1)                 17        \n",
            "                                                                 \n",
            "=================================================================\n",
            "Total params: 979,167\n",
            "Trainable params: 154,017\n",
            "Non-trainable params: 825,150\n",
            "_________________________________________________________________\n",
            "None\n"
          ]
        }
      ]
    },
    {
      "cell_type": "markdown",
      "source": [
        "### Fit the model"
      ],
      "metadata": {
        "id": "Yv-vLQUo1_ey"
      }
    },
    {
      "cell_type": "code",
      "source": [
        "history = model.fit(X_train, y_train, batch_size=128, epochs=100, verbose=1, validation_split=0.1)"
      ],
      "metadata": {
        "colab": {
          "base_uri": "https://localhost:8080/"
        },
        "id": "oDbqCWPu1-5R",
        "outputId": "85fa0afe-3e3b-4104-eb81-1444cf6371da"
      },
      "execution_count": null,
      "outputs": [
        {
          "output_type": "stream",
          "name": "stdout",
          "text": [
            "Epoch 1/100\n",
            "44/44 [==============================] - 13s 90ms/step - loss: 0.6969 - accuracy: 0.4965 - val_loss: 0.6960 - val_accuracy: 0.4830\n",
            "Epoch 2/100\n",
            "44/44 [==============================] - 3s 66ms/step - loss: 0.6945 - accuracy: 0.4918 - val_loss: 0.6927 - val_accuracy: 0.5218\n",
            "Epoch 3/100\n",
            "44/44 [==============================] - 3s 66ms/step - loss: 0.6933 - accuracy: 0.5039 - val_loss: 0.6923 - val_accuracy: 0.5024\n",
            "Epoch 4/100\n",
            "44/44 [==============================] - 3s 66ms/step - loss: 0.6920 - accuracy: 0.5064 - val_loss: 0.6908 - val_accuracy: 0.4927\n",
            "Epoch 5/100\n",
            "44/44 [==============================] - 3s 66ms/step - loss: 0.6920 - accuracy: 0.4985 - val_loss: 0.6889 - val_accuracy: 0.5202\n",
            "Epoch 6/100\n",
            "44/44 [==============================] - 3s 66ms/step - loss: 0.6922 - accuracy: 0.4987 - val_loss: 0.6909 - val_accuracy: 0.4927\n",
            "Epoch 7/100\n",
            "44/44 [==============================] - 3s 66ms/step - loss: 0.6917 - accuracy: 0.5130 - val_loss: 0.6916 - val_accuracy: 0.4895\n",
            "Epoch 8/100\n",
            "44/44 [==============================] - 4s 98ms/step - loss: 0.6911 - accuracy: 0.5075 - val_loss: 0.6906 - val_accuracy: 0.5170\n",
            "Epoch 9/100\n",
            "44/44 [==============================] - 3s 68ms/step - loss: 0.6914 - accuracy: 0.5073 - val_loss: 0.6917 - val_accuracy: 0.5170\n",
            "Epoch 10/100\n",
            "44/44 [==============================] - 3s 66ms/step - loss: 0.6916 - accuracy: 0.5075 - val_loss: 0.6917 - val_accuracy: 0.5170\n",
            "Epoch 11/100\n",
            "44/44 [==============================] - 3s 69ms/step - loss: 0.6917 - accuracy: 0.4956 - val_loss: 0.6919 - val_accuracy: 0.5202\n",
            "Epoch 12/100\n",
            "44/44 [==============================] - 3s 67ms/step - loss: 0.6920 - accuracy: 0.4934 - val_loss: 0.6918 - val_accuracy: 0.5202\n",
            "Epoch 13/100\n",
            "44/44 [==============================] - 3s 77ms/step - loss: 0.6920 - accuracy: 0.4972 - val_loss: 0.6921 - val_accuracy: 0.4879\n",
            "Epoch 14/100\n",
            "44/44 [==============================] - 3s 67ms/step - loss: 0.6919 - accuracy: 0.4907 - val_loss: 0.6933 - val_accuracy: 0.4879\n",
            "Epoch 15/100\n",
            "44/44 [==============================] - 3s 68ms/step - loss: 0.6911 - accuracy: 0.5177 - val_loss: 0.6920 - val_accuracy: 0.4879\n",
            "Epoch 16/100\n",
            "44/44 [==============================] - 3s 68ms/step - loss: 0.6927 - accuracy: 0.4954 - val_loss: 0.6929 - val_accuracy: 0.4879\n",
            "Epoch 17/100\n",
            "44/44 [==============================] - 3s 69ms/step - loss: 0.6928 - accuracy: 0.4902 - val_loss: 0.6930 - val_accuracy: 0.4863\n",
            "Epoch 18/100\n",
            "44/44 [==============================] - 3s 67ms/step - loss: 0.6931 - accuracy: 0.5010 - val_loss: 0.6955 - val_accuracy: 0.4863\n",
            "Epoch 19/100\n",
            "44/44 [==============================] - 3s 67ms/step - loss: 0.6937 - accuracy: 0.4997 - val_loss: 0.6938 - val_accuracy: 0.4863\n",
            "Epoch 20/100\n",
            "44/44 [==============================] - 3s 68ms/step - loss: 0.6934 - accuracy: 0.5015 - val_loss: 0.6919 - val_accuracy: 0.5170\n",
            "Epoch 21/100\n",
            "44/44 [==============================] - 3s 69ms/step - loss: 0.6937 - accuracy: 0.4936 - val_loss: 0.6919 - val_accuracy: 0.5170\n",
            "Epoch 22/100\n",
            "44/44 [==============================] - 3s 67ms/step - loss: 0.6730 - accuracy: 0.5987 - val_loss: 0.5827 - val_accuracy: 0.7738\n",
            "Epoch 23/100\n",
            "44/44 [==============================] - 3s 67ms/step - loss: 0.4939 - accuracy: 0.8155 - val_loss: 0.4527 - val_accuracy: 0.8239\n",
            "Epoch 24/100\n",
            "44/44 [==============================] - 3s 68ms/step - loss: 0.3895 - accuracy: 0.8694 - val_loss: 0.8451 - val_accuracy: 0.5525\n",
            "Epoch 25/100\n",
            "44/44 [==============================] - 3s 67ms/step - loss: 0.4310 - accuracy: 0.8349 - val_loss: 0.3940 - val_accuracy: 0.8595\n",
            "Epoch 26/100\n",
            "44/44 [==============================] - 3s 67ms/step - loss: 0.3328 - accuracy: 0.8920 - val_loss: 0.3662 - val_accuracy: 0.8724\n",
            "Epoch 27/100\n",
            "44/44 [==============================] - 3s 68ms/step - loss: 0.3485 - accuracy: 0.8810 - val_loss: 0.5526 - val_accuracy: 0.4830\n",
            "Epoch 28/100\n",
            "44/44 [==============================] - 3s 68ms/step - loss: 0.3254 - accuracy: 0.8839 - val_loss: 0.3204 - val_accuracy: 0.8901\n",
            "Epoch 29/100\n",
            "44/44 [==============================] - 3s 68ms/step - loss: 0.2801 - accuracy: 0.9080 - val_loss: 0.3094 - val_accuracy: 0.8918\n",
            "Epoch 30/100\n",
            "44/44 [==============================] - 3s 67ms/step - loss: 0.3693 - accuracy: 0.8323 - val_loss: 0.6612 - val_accuracy: 0.5218\n",
            "Epoch 31/100\n",
            "44/44 [==============================] - 3s 69ms/step - loss: 0.5610 - accuracy: 0.6634 - val_loss: 0.6955 - val_accuracy: 0.4830\n",
            "Epoch 32/100\n",
            "44/44 [==============================] - 3s 67ms/step - loss: 0.7098 - accuracy: 0.5033 - val_loss: 0.7292 - val_accuracy: 0.4830\n",
            "Epoch 33/100\n",
            "44/44 [==============================] - 3s 68ms/step - loss: 0.7058 - accuracy: 0.5073 - val_loss: 0.6950 - val_accuracy: 0.5267\n",
            "Epoch 34/100\n",
            "44/44 [==============================] - 3s 68ms/step - loss: 0.6992 - accuracy: 0.5137 - val_loss: 0.6894 - val_accuracy: 0.5267\n",
            "Epoch 35/100\n",
            "44/44 [==============================] - 3s 68ms/step - loss: 0.7237 - accuracy: 0.5060 - val_loss: 0.6901 - val_accuracy: 0.5218\n",
            "Epoch 36/100\n",
            "44/44 [==============================] - 3s 67ms/step - loss: 0.6928 - accuracy: 0.5013 - val_loss: 0.6927 - val_accuracy: 0.5218\n",
            "Epoch 37/100\n",
            "44/44 [==============================] - 3s 68ms/step - loss: 0.5691 - accuracy: 0.6769 - val_loss: 0.3131 - val_accuracy: 0.8934\n",
            "Epoch 38/100\n",
            "44/44 [==============================] - 3s 68ms/step - loss: 0.2576 - accuracy: 0.9181 - val_loss: 0.2619 - val_accuracy: 0.9160\n",
            "Epoch 39/100\n",
            "44/44 [==============================] - 3s 67ms/step - loss: 0.2344 - accuracy: 0.9251 - val_loss: 0.2382 - val_accuracy: 0.9208\n",
            "Epoch 40/100\n",
            "44/44 [==============================] - 3s 68ms/step - loss: 0.2008 - accuracy: 0.9371 - val_loss: 0.2180 - val_accuracy: 0.9305\n",
            "Epoch 41/100\n",
            "44/44 [==============================] - 3s 68ms/step - loss: 0.1799 - accuracy: 0.9425 - val_loss: 0.1997 - val_accuracy: 0.9418\n",
            "Epoch 42/100\n",
            "44/44 [==============================] - 3s 68ms/step - loss: 0.1651 - accuracy: 0.9486 - val_loss: 0.3091 - val_accuracy: 0.8837\n",
            "Epoch 43/100\n",
            "44/44 [==============================] - 3s 68ms/step - loss: 0.1632 - accuracy: 0.9452 - val_loss: 0.1990 - val_accuracy: 0.9354\n",
            "Epoch 44/100\n",
            "44/44 [==============================] - 3s 69ms/step - loss: 0.1887 - accuracy: 0.9369 - val_loss: 0.2053 - val_accuracy: 0.9338\n",
            "Epoch 45/100\n",
            "44/44 [==============================] - 3s 68ms/step - loss: 0.1481 - accuracy: 0.9526 - val_loss: 0.2059 - val_accuracy: 0.9386\n",
            "Epoch 46/100\n",
            "44/44 [==============================] - 3s 67ms/step - loss: 0.1474 - accuracy: 0.9549 - val_loss: 0.2015 - val_accuracy: 0.9386\n",
            "Epoch 47/100\n",
            "44/44 [==============================] - 3s 68ms/step - loss: 0.1409 - accuracy: 0.9580 - val_loss: 0.2350 - val_accuracy: 0.9225\n",
            "Epoch 48/100\n",
            "44/44 [==============================] - 3s 67ms/step - loss: 0.1443 - accuracy: 0.9565 - val_loss: 0.1747 - val_accuracy: 0.9532\n",
            "Epoch 49/100\n",
            "44/44 [==============================] - 3s 68ms/step - loss: 0.1361 - accuracy: 0.9624 - val_loss: 0.1723 - val_accuracy: 0.9532\n",
            "Epoch 50/100\n",
            "44/44 [==============================] - 3s 67ms/step - loss: 0.1468 - accuracy: 0.9549 - val_loss: 0.1706 - val_accuracy: 0.9515\n",
            "Epoch 51/100\n",
            "44/44 [==============================] - 3s 68ms/step - loss: 0.1299 - accuracy: 0.9623 - val_loss: 0.2178 - val_accuracy: 0.9386\n",
            "Epoch 52/100\n",
            "44/44 [==============================] - 3s 68ms/step - loss: 0.1884 - accuracy: 0.9486 - val_loss: 0.1687 - val_accuracy: 0.9532\n",
            "Epoch 53/100\n",
            "44/44 [==============================] - 3s 68ms/step - loss: 0.1291 - accuracy: 0.9617 - val_loss: 0.2011 - val_accuracy: 0.9499\n",
            "Epoch 54/100\n",
            "44/44 [==============================] - 3s 67ms/step - loss: 0.1434 - accuracy: 0.9590 - val_loss: 0.1602 - val_accuracy: 0.9548\n",
            "Epoch 55/100\n",
            "44/44 [==============================] - 3s 68ms/step - loss: 0.1365 - accuracy: 0.9580 - val_loss: 0.1553 - val_accuracy: 0.9548\n",
            "Epoch 56/100\n",
            "44/44 [==============================] - 3s 68ms/step - loss: 0.1197 - accuracy: 0.9659 - val_loss: 0.1650 - val_accuracy: 0.9499\n",
            "Epoch 57/100\n",
            "44/44 [==============================] - 3s 67ms/step - loss: 0.1226 - accuracy: 0.9635 - val_loss: 0.1614 - val_accuracy: 0.9515\n",
            "Epoch 58/100\n",
            "44/44 [==============================] - 3s 67ms/step - loss: 0.1190 - accuracy: 0.9651 - val_loss: 0.1695 - val_accuracy: 0.9499\n",
            "Epoch 59/100\n",
            "44/44 [==============================] - 3s 67ms/step - loss: 0.1221 - accuracy: 0.9628 - val_loss: 0.1668 - val_accuracy: 0.9515\n",
            "Epoch 60/100\n",
            "44/44 [==============================] - 3s 68ms/step - loss: 0.1333 - accuracy: 0.9587 - val_loss: 0.1708 - val_accuracy: 0.9548\n",
            "Epoch 61/100\n",
            "44/44 [==============================] - 3s 67ms/step - loss: 0.1194 - accuracy: 0.9644 - val_loss: 0.1779 - val_accuracy: 0.9515\n",
            "Epoch 62/100\n",
            "44/44 [==============================] - 3s 68ms/step - loss: 0.1207 - accuracy: 0.9646 - val_loss: 0.1691 - val_accuracy: 0.9515\n",
            "Epoch 63/100\n",
            "44/44 [==============================] - 3s 67ms/step - loss: 0.1135 - accuracy: 0.9671 - val_loss: 0.1719 - val_accuracy: 0.9499\n",
            "Epoch 64/100\n",
            "44/44 [==============================] - 3s 66ms/step - loss: 0.1218 - accuracy: 0.9632 - val_loss: 0.1878 - val_accuracy: 0.9499\n",
            "Epoch 65/100\n",
            "44/44 [==============================] - 3s 67ms/step - loss: 0.1205 - accuracy: 0.9660 - val_loss: 0.1780 - val_accuracy: 0.9515\n",
            "Epoch 66/100\n",
            "44/44 [==============================] - 3s 67ms/step - loss: 0.1246 - accuracy: 0.9664 - val_loss: 0.1671 - val_accuracy: 0.9532\n",
            "Epoch 67/100\n",
            "44/44 [==============================] - 3s 68ms/step - loss: 0.1143 - accuracy: 0.9668 - val_loss: 0.2347 - val_accuracy: 0.9451\n",
            "Epoch 68/100\n",
            "44/44 [==============================] - 3s 68ms/step - loss: 0.1171 - accuracy: 0.9677 - val_loss: 0.2016 - val_accuracy: 0.9515\n",
            "Epoch 69/100\n",
            "44/44 [==============================] - 3s 68ms/step - loss: 0.1184 - accuracy: 0.9689 - val_loss: 0.1928 - val_accuracy: 0.9515\n",
            "Epoch 70/100\n",
            "44/44 [==============================] - 3s 68ms/step - loss: 0.1497 - accuracy: 0.9619 - val_loss: 0.2027 - val_accuracy: 0.9354\n",
            "Epoch 71/100\n",
            "44/44 [==============================] - 3s 70ms/step - loss: 0.1294 - accuracy: 0.9565 - val_loss: 0.2166 - val_accuracy: 0.9435\n",
            "Epoch 72/100\n",
            "44/44 [==============================] - 3s 68ms/step - loss: 0.1176 - accuracy: 0.9687 - val_loss: 0.1902 - val_accuracy: 0.9499\n",
            "Epoch 73/100\n",
            "44/44 [==============================] - 3s 68ms/step - loss: 0.1327 - accuracy: 0.9628 - val_loss: 0.1728 - val_accuracy: 0.9548\n",
            "Epoch 74/100\n",
            "44/44 [==============================] - 3s 69ms/step - loss: 0.1250 - accuracy: 0.9635 - val_loss: 0.1801 - val_accuracy: 0.9483\n",
            "Epoch 75/100\n",
            "44/44 [==============================] - 3s 69ms/step - loss: 0.1459 - accuracy: 0.9569 - val_loss: 0.2111 - val_accuracy: 0.9386\n",
            "Epoch 76/100\n",
            "44/44 [==============================] - 3s 67ms/step - loss: 0.1334 - accuracy: 0.9662 - val_loss: 0.1908 - val_accuracy: 0.9483\n",
            "Epoch 77/100\n",
            "44/44 [==============================] - 3s 68ms/step - loss: 0.1868 - accuracy: 0.9445 - val_loss: 0.1706 - val_accuracy: 0.9548\n",
            "Epoch 78/100\n",
            "44/44 [==============================] - 3s 68ms/step - loss: 0.1295 - accuracy: 0.9655 - val_loss: 0.1925 - val_accuracy: 0.9483\n",
            "Epoch 79/100\n",
            "44/44 [==============================] - 3s 68ms/step - loss: 0.1188 - accuracy: 0.9693 - val_loss: 0.1885 - val_accuracy: 0.9515\n",
            "Epoch 80/100\n",
            "44/44 [==============================] - 3s 68ms/step - loss: 0.1255 - accuracy: 0.9601 - val_loss: 0.2159 - val_accuracy: 0.9386\n",
            "Epoch 81/100\n",
            "44/44 [==============================] - 3s 68ms/step - loss: 0.1034 - accuracy: 0.9727 - val_loss: 0.2493 - val_accuracy: 0.9338\n",
            "Epoch 82/100\n",
            "44/44 [==============================] - 3s 70ms/step - loss: 0.1147 - accuracy: 0.9702 - val_loss: 0.2220 - val_accuracy: 0.9386\n",
            "Epoch 83/100\n",
            "44/44 [==============================] - 3s 69ms/step - loss: 0.1119 - accuracy: 0.9712 - val_loss: 0.1908 - val_accuracy: 0.9515\n",
            "Epoch 84/100\n",
            "44/44 [==============================] - 3s 68ms/step - loss: 0.1105 - accuracy: 0.9725 - val_loss: 0.2025 - val_accuracy: 0.9483\n",
            "Epoch 85/100\n",
            "44/44 [==============================] - 3s 69ms/step - loss: 0.0969 - accuracy: 0.9747 - val_loss: 0.1940 - val_accuracy: 0.9515\n",
            "Epoch 86/100\n",
            "44/44 [==============================] - 3s 68ms/step - loss: 0.0989 - accuracy: 0.9759 - val_loss: 0.1937 - val_accuracy: 0.9467\n",
            "Epoch 87/100\n",
            "44/44 [==============================] - 3s 69ms/step - loss: 0.0960 - accuracy: 0.9718 - val_loss: 0.2456 - val_accuracy: 0.9418\n",
            "Epoch 88/100\n",
            "44/44 [==============================] - 3s 69ms/step - loss: 0.0954 - accuracy: 0.9756 - val_loss: 0.1914 - val_accuracy: 0.9532\n",
            "Epoch 89/100\n",
            "44/44 [==============================] - 3s 69ms/step - loss: 0.0908 - accuracy: 0.9765 - val_loss: 0.2018 - val_accuracy: 0.9499\n",
            "Epoch 90/100\n",
            "44/44 [==============================] - 3s 68ms/step - loss: 0.0917 - accuracy: 0.9759 - val_loss: 0.1758 - val_accuracy: 0.9564\n",
            "Epoch 91/100\n",
            "44/44 [==============================] - 3s 68ms/step - loss: 0.0904 - accuracy: 0.9772 - val_loss: 0.1898 - val_accuracy: 0.9483\n",
            "Epoch 92/100\n",
            "44/44 [==============================] - 3s 70ms/step - loss: 0.0926 - accuracy: 0.9756 - val_loss: 0.1943 - val_accuracy: 0.9532\n",
            "Epoch 93/100\n",
            "44/44 [==============================] - 3s 69ms/step - loss: 0.0941 - accuracy: 0.9756 - val_loss: 0.1870 - val_accuracy: 0.9467\n",
            "Epoch 94/100\n",
            "44/44 [==============================] - 3s 69ms/step - loss: 0.0950 - accuracy: 0.9736 - val_loss: 0.1780 - val_accuracy: 0.9532\n",
            "Epoch 95/100\n",
            "44/44 [==============================] - 3s 69ms/step - loss: 0.0925 - accuracy: 0.9750 - val_loss: 0.1746 - val_accuracy: 0.9548\n",
            "Epoch 96/100\n",
            "44/44 [==============================] - 3s 68ms/step - loss: 0.0930 - accuracy: 0.9739 - val_loss: 0.1907 - val_accuracy: 0.9564\n",
            "Epoch 97/100\n",
            "44/44 [==============================] - 3s 68ms/step - loss: 0.0959 - accuracy: 0.9738 - val_loss: 0.1744 - val_accuracy: 0.9515\n",
            "Epoch 98/100\n",
            "44/44 [==============================] - 3s 68ms/step - loss: 0.0963 - accuracy: 0.9761 - val_loss: 0.1795 - val_accuracy: 0.9548\n",
            "Epoch 99/100\n",
            "44/44 [==============================] - 3s 68ms/step - loss: 0.0853 - accuracy: 0.9797 - val_loss: 0.1857 - val_accuracy: 0.9515\n",
            "Epoch 100/100\n",
            "44/44 [==============================] - 3s 68ms/step - loss: 0.0814 - accuracy: 0.9797 - val_loss: 0.1731 - val_accuracy: 0.9499\n"
          ]
        }
      ]
    },
    {
      "cell_type": "markdown",
      "source": [
        "### Evaluate Training phase"
      ],
      "metadata": {
        "id": "foyN2CBJHr9J"
      }
    },
    {
      "cell_type": "code",
      "source": [
        "score = model.evaluate(X_train, y_train, verbose=1)\n",
        "score"
      ],
      "metadata": {
        "colab": {
          "base_uri": "https://localhost:8080/"
        },
        "id": "EDJXxxCaHjX6",
        "outputId": "f9bdc8d2-df36-4d03-8b26-89fe5863cf6e"
      },
      "execution_count": null,
      "outputs": [
        {
          "output_type": "stream",
          "name": "stdout",
          "text": [
            "194/194 [==============================] - 5s 23ms/step - loss: 0.0811 - accuracy: 0.9808\n"
          ]
        },
        {
          "output_type": "execute_result",
          "data": {
            "text/plain": [
              "[0.0811488926410675, 0.9807568192481995]"
            ]
          },
          "metadata": {},
          "execution_count": 27
        }
      ]
    },
    {
      "cell_type": "code",
      "source": [
        "print(\"Train Loss:\", score[0])\n",
        "print(\"Train Accuracy:\", score[1])"
      ],
      "metadata": {
        "colab": {
          "base_uri": "https://localhost:8080/"
        },
        "id": "aViS4L1RH01l",
        "outputId": "2f0108ea-b51c-4b4f-b2d6-1f0432580ba1"
      },
      "execution_count": null,
      "outputs": [
        {
          "output_type": "stream",
          "name": "stdout",
          "text": [
            "Train Loss: 0.0811488926410675\n",
            "Train Accuracy: 0.9807568192481995\n"
          ]
        }
      ]
    },
    {
      "cell_type": "markdown",
      "source": [
        "### Evaluate Testing phase"
      ],
      "metadata": {
        "id": "30OIGehIH9IZ"
      }
    },
    {
      "cell_type": "code",
      "source": [
        "score = model.evaluate(X_test, y_test, verbose=1)"
      ],
      "metadata": {
        "colab": {
          "base_uri": "https://localhost:8080/"
        },
        "id": "sB1V2DfhH8uk",
        "outputId": "3609be7d-2495-49ea-d77a-9b176316c7b3"
      },
      "execution_count": null,
      "outputs": [
        {
          "output_type": "stream",
          "name": "stdout",
          "text": [
            "49/49 [==============================] - 1s 25ms/step - loss: 0.1583 - accuracy: 0.9528\n"
          ]
        }
      ]
    },
    {
      "cell_type": "code",
      "source": [
        "print(\"Test Loss:\", score[0])\n",
        "print(\"Test Accuracy:\", score[1])"
      ],
      "metadata": {
        "colab": {
          "base_uri": "https://localhost:8080/"
        },
        "id": "08-KEi4OIIPe",
        "outputId": "20a66906-f550-4f6c-ca81-effa9a8a2768"
      },
      "execution_count": null,
      "outputs": [
        {
          "output_type": "stream",
          "name": "stdout",
          "text": [
            "Test Loss: 0.158309668302536\n",
            "Test Accuracy: 0.9528118968009949\n"
          ]
        }
      ]
    },
    {
      "cell_type": "markdown",
      "source": [
        "### Plot the training and testing accuracy and loss"
      ],
      "metadata": {
        "id": "7U2vKWATINwL"
      }
    },
    {
      "cell_type": "code",
      "source": [
        "plt.plot(history.history['accuracy'])\n",
        "plt.plot(history.history['val_accuracy'])\n",
        "\n",
        "plt.title('model accuracy')\n",
        "plt.ylabel('accuracy')\n",
        "plt.xlabel('epoch')\n",
        "plt.legend(['train','validation'], loc='upper left')\n",
        "plt.show()\n",
        "\n",
        "plt.plot(history.history['loss'])\n",
        "plt.plot(history.history['val_loss'])\n",
        "\n",
        "plt.title('model loss')\n",
        "plt.ylabel('loss')\n",
        "plt.xlabel('epoch')\n",
        "plt.legend(['train','validation'], loc='upper left')\n",
        "plt.show()"
      ],
      "metadata": {
        "colab": {
          "base_uri": "https://localhost:8080/",
          "height": 573
        },
        "id": "FHkHc6xLISX1",
        "outputId": "8303fdfd-f825-409c-89dd-6c72faeb09d8"
      },
      "execution_count": null,
      "outputs": [
        {
          "output_type": "display_data",
          "data": {
            "text/plain": [
              "<Figure size 432x288 with 1 Axes>"
            ],
            "image/png": "[encoded data removed]"
          },
          "metadata": {
            "needs_background": "light"
          }
        },
        {
          "output_type": "display_data",
          "data": {
            "text/plain": [
              "<Figure size 432x288 with 1 Axes>"
            ],
            "image/png": "[encoded data removed]"
          },
          "metadata": {
            "needs_background": "light"
          }
        }
      ]
    },
    {
      "cell_type": "markdown",
      "source": [
        "### Save Model"
      ],
      "metadata": {
        "id": "ZOtMtpwtIkQJ"
      }
    },
    {
      "cell_type": "code",
      "source": [
        "model.save('./model.h5', save_format='h5')"
      ],
      "metadata": {
        "id": "_4U2-63qIpoQ"
      },
      "execution_count": null,
      "outputs": []
    }
  ]
}